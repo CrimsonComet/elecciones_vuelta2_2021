{
 "cells": [
  {
   "cell_type": "code",
   "execution_count": 10,
   "id": "1d3bbae0",
   "metadata": {},
   "outputs": [],
   "source": [
    "import os\n",
    "import pandas as pd\n",
    "import matplotlib.pyplot as plt\n",
    "\n",
    "path_to_folder = 'D:\\\\python_scripts\\\\map_votes'\n",
    "\n",
    "'''\n",
    "Open votes information as a pandas DataFrame\n",
    "'''\n",
    "\n",
    "## Data was download from \n",
    "## 'https://www.datosabiertos.gob.pe/dataset/resultados-por-mesa-de-las-elecciones-presidenciales-2021-segunda-vuelta-oficina-nacional-de'\n",
    "path_to_vote_file = os.path.join(path_to_folder, 'resultados.csv')\n",
    "votes_df = pd.read_csv(path_to_vote_file, sep=',', encoding='utf-8', index_col=False) #To avoid error ' byte 0xbf' encode with 'latin-1'\n",
    "votes_df = votes_df.rename(columns={'ï»¿UBIGEO':'UBIGEO'}) # correct some column names\n",
    "votes_df = votes_df.fillna(0) # Avoid nan values\n",
    "\n",
    "# 'UBIGEO' >= 910101 aren't inside Peru\n",
    "votes_df = votes_df[votes_df['UBIGEO'] < 910101]\n",
    "\n",
    "# information\n",
    "# P1:Peru Libre\n",
    "# P2:Fuerza Popular\n",
    "\n",
    "# Group by district (DISTRITO) and sort alphabetically\n",
    "votes_by_district = votes_df.groupby(['UBIGEO', 'DISTRITO']).sum()\n",
    "votes_by_district = votes_by_district.reset_index ()\n",
    "votes_by_district = votes_by_district.sort_values(by=['DISTRITO'])\n",
    "votes_by_district = votes_by_district.reset_index ()\n",
    "votes_by_district = votes_by_district.drop(['index'], axis=1)\n",
    "\n",
    "\n",
    "'''\n",
    "Equalize district names in both dataframes\n",
    "'''\n",
    "\n",
    "# In votes_by_districts\n",
    "votes_by_district = votes_by_district.drop([951,1136])\n",
    "\n",
    "\n",
    "# Adding 1 column to votes_by_district with pertentual rate of votes \n",
    "# -1 -> +1 \n",
    "# -1 : 100% for Fuerza Popular\n",
    "# +1 : 100% for Peru Libre\n",
    "votes_by_district['rate'] = round(2*(-.5+votes_by_district['VOTOS_P1']/(votes_by_district['VOTOS_P1']+votes_by_district['VOTOS_P2'])),2)\n",
    "votes_by_district['absenteeism'] = round(votes_by_district['N_CVAS']/votes_by_district['N_ELEC_HABIL'], 2)\n"
   ]
  },
  {
   "cell_type": "code",
   "execution_count": null,
   "id": "786ab727",
   "metadata": {},
   "outputs": [],
   "source": [
    "# Usaremos el dataframe creado con el script votes.py\n",
    "# Con ello tendremos el dataframe votes_by_district"
   ]
  },
  {
   "cell_type": "code",
   "execution_count": 11,
   "id": "8d71ed1e",
   "metadata": {},
   "outputs": [
    {
     "name": "stdout",
     "output_type": "stream",
     "text": [
      "   UBIGEO                 DISTRITO  MESA_DE_VOTACION  TIPO_OBSERVACION  \\\n",
      "0   30101                  ABANCAY            634260               0.0   \n",
      "1   20302  ABELARDO PARDO LEZAMETA              1373               0.0   \n",
      "2   40402                    ACARI             99654               0.0   \n",
      "3   22001                     ACAS              7479               0.0   \n",
      "4   71002                    ACCHA            164865               0.0   \n",
      "\n",
      "    N_CVAS  N_ELEC_HABIL  VOTOS_P1  VOTOS_P2  VOTOS_VB  VOTOS_VN  VOTOS_VI  \\\n",
      "0  36463.0         47150   25534.0    8799.0     239.0    1891.0       0.0   \n",
      "1    123.0           229      72.0      35.0       1.0      15.0       0.0   \n",
      "2   2307.0          3325     842.0    1374.0      22.0      69.0       0.0   \n",
      "3    166.0           322      87.0      76.0       0.0       3.0       0.0   \n",
      "4   1933.0          2804    1622.0     188.0      32.0      91.0       0.0   \n",
      "\n",
      "   Column1  rate  absenteeism  \n",
      "0      0.0  0.49         0.77  \n",
      "1      0.0  0.35         0.54  \n",
      "2      0.0 -0.24         0.69  \n",
      "3      0.0  0.07         0.52  \n",
      "4      0.0  0.79         0.69  \n",
      "Index(['UBIGEO', 'DISTRITO', 'MESA_DE_VOTACION', 'TIPO_OBSERVACION', 'N_CVAS',\n",
      "       'N_ELEC_HABIL', 'VOTOS_P1', 'VOTOS_P2', 'VOTOS_VB', 'VOTOS_VN',\n",
      "       'VOTOS_VI', 'Column1', 'rate', 'absenteeism'],\n",
      "      dtype='object')\n"
     ]
    }
   ],
   "source": [
    "print(votes_by_district.head()); print(votes_by_district.columns)"
   ]
  },
  {
   "cell_type": "code",
   "execution_count": 12,
   "id": "2e8c56ab",
   "metadata": {},
   "outputs": [],
   "source": [
    "# De este solo necesitamos algunas columnas:\n",
    "# VOTOS_P1 (Perú Libre), VOTOS_P2 (Fuerza Popular), N_CVAS (votantes que asistieron)\n",
    "# VOTOS_VB (blanco), VOTOS_VN (nulos), rate y absenteeism (ausentismo)"
   ]
  },
  {
   "cell_type": "code",
   "execution_count": 13,
   "id": "c687c7a8",
   "metadata": {},
   "outputs": [],
   "source": [
    "datos_elecciones = votes_by_district[['absenteeism', 'VOTOS_VB', 'VOTOS_VN']]\n",
    "y = votes_by_district['rate']"
   ]
  },
  {
   "cell_type": "code",
   "execution_count": 14,
   "id": "b516f144",
   "metadata": {},
   "outputs": [],
   "source": [
    "# importando librería de ML\n",
    "from sklearn.model_selection import train_test_split\n",
    "from sklearn.linear_model import LinearRegression, Ridge, Lasso"
   ]
  },
  {
   "cell_type": "code",
   "execution_count": 15,
   "id": "cebef561",
   "metadata": {},
   "outputs": [],
   "source": [
    "X_train, X_test, y_train, y_test = train_test_split(datos_elecciones, y)"
   ]
  },
  {
   "cell_type": "code",
   "execution_count": 17,
   "id": "76c7cf76",
   "metadata": {},
   "outputs": [],
   "source": [
    "# construyendo el modelo lineal básico\n",
    "lr = LinearRegression().fit(X_train, y_train)"
   ]
  },
  {
   "cell_type": "code",
   "execution_count": 18,
   "id": "94fcc373",
   "metadata": {},
   "outputs": [
    {
     "name": "stdout",
     "output_type": "stream",
     "text": [
      "[ 2.38015776e-02  3.17628411e-05 -5.60554415e-05] 0.37340974313551323\n"
     ]
    }
   ],
   "source": [
    "print(lr.coef_, lr.intercept_)"
   ]
  },
  {
   "cell_type": "code",
   "execution_count": 21,
   "id": "1542bec0",
   "metadata": {},
   "outputs": [
    {
     "name": "stdout",
     "output_type": "stream",
     "text": [
      "La eficiencia de este modelo de regresión lineal con los datos de entrenamiento es 0.07\n"
     ]
    }
   ],
   "source": [
    "print('La eficiencia de este modelo de regresión lineal con los datos de entrenamiento es {}'.format(round(lr.score(X_train, y_train), 2)))"
   ]
  },
  {
   "cell_type": "code",
   "execution_count": 22,
   "id": "b955cdd6",
   "metadata": {},
   "outputs": [],
   "source": [
    "# con ello evidenciamos, de manera muy superficial, que las columnas elegidas no pueden\n",
    "# explicar las votaciones para ambos candidatos\n",
    "\n",
    "# Se procederá a ajustar el modelo lineal con Ridge y Lasso.\n",
    "# ..."
   ]
  },
  {
   "cell_type": "code",
   "execution_count": null,
   "id": "4f32b617",
   "metadata": {},
   "outputs": [],
   "source": []
  }
 ],
 "metadata": {
  "kernelspec": {
   "display_name": "Python 3 (ipykernel)",
   "language": "python",
   "name": "python3"
  },
  "language_info": {
   "codemirror_mode": {
    "name": "ipython",
    "version": 3
   },
   "file_extension": ".py",
   "mimetype": "text/x-python",
   "name": "python",
   "nbconvert_exporter": "python",
   "pygments_lexer": "ipython3",
   "version": "3.9.10"
  }
 },
 "nbformat": 4,
 "nbformat_minor": 5
}
